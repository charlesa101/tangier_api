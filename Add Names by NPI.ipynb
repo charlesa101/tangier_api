{
 "cells": [
  {
   "cell_type": "code",
   "execution_count": null,
   "metadata": {
    "collapsed": true
   },
   "outputs": [],
   "source": [
    "import os, pandas, moment, xmlmanip\n",
    "os.environ['INTERFACE_CONF_FILE'] = '/home/jjorissen/interface_secrets.conf'\n",
    "site_id_path = '/home/jjorissen/Documents/TangierDocs/LocationSiteIds.xlsx' \n",
    "from tangier_api import api\n",
    "from tangier_api.api import ScheduleConnection, ProviderConnection, ProviderReport"
   ]
  },
  {
   "cell_type": "code",
   "execution_count": null,
   "metadata": {
    "collapsed": true
   },
   "outputs": [],
   "source": [
    "connection = ScheduleConnection()\n",
    "sites_df = pandas.read_excel(site_id_path).dropna()"
   ]
  },
  {
   "cell_type": "code",
   "execution_count": null,
   "metadata": {
    "collapsed": true
   },
   "outputs": [],
   "source": [
    "today = moment.utcnow().strftime(\"%Y-%m-%d\")\n",
    "three_months_ago = moment.utcnow().add(months=-2).strftime(\"%Y-%m-%d\")\n",
    "shift_df = pandas.DataFrame()\n",
    "for index, row in sites_df.iterrows():\n",
    "    schedule = connection.get_schedule(site_id=row['Site ID'], start_date=three_months_ago, end_date=today)\n",
    "    schema = xmlmanip.XMLSchema(schedule.encode('utf-8'))\n",
    "    temp_df = pandas.DataFrame(schema.search(siteid__ne=\"\"))\n",
    "    if temp_df.shape[0] != 0:\n",
    "        shift_df = shift_df.append(temp_df)"
   ]
  },
  {
   "cell_type": "code",
   "execution_count": null,
   "metadata": {
    "collapsed": true,
    "scrolled": false
   },
   "outputs": [],
   "source": [
    "report = ProviderReport(shift_df)\n",
    "report.add_to_report(\"last_name\", \"first_name\", key_column=\"empid\")"
   ]
  },
  {
   "cell_type": "code",
   "execution_count": null,
   "metadata": {
    "collapsed": true
   },
   "outputs": [],
   "source": [
    "report.df.groupby([\"empid\", \"providername\", \"provider_last_name\", \"provider_first_name\"]).count().to_excel(\"who_has_npis.xlsx\")"
   ]
  },
  {
   "cell_type": "code",
   "execution_count": null,
   "metadata": {
    "collapsed": true
   },
   "outputs": [],
   "source": [
    "report.df.columns"
   ]
  },
  {
   "cell_type": "code",
   "execution_count": null,
   "metadata": {
    "collapsed": true
   },
   "outputs": [],
   "source": [
    "report.df[\"location\"]"
   ]
  },
  {
   "cell_type": "code",
   "execution_count": null,
   "metadata": {
    "collapsed": true
   },
   "outputs": [],
   "source": []
  }
 ],
 "metadata": {
  "kernelspec": {
   "display_name": "Python (tangier_api)",
   "language": "python",
   "name": "tangier_api"
  },
  "language_info": {
   "codemirror_mode": {
    "name": "ipython",
    "version": 3
   },
   "file_extension": ".py",
   "mimetype": "text/x-python",
   "name": "python",
   "nbconvert_exporter": "python",
   "pygments_lexer": "ipython3",
   "version": "3.6.3"
  }
 },
 "nbformat": 4,
 "nbformat_minor": 2
}
