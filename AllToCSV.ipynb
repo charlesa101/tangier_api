{
 "cells": [
  {
   "cell_type": "code",
   "execution_count": 1,
   "metadata": {
    "collapsed": true
   },
   "outputs": [],
   "source": [
    "import os, pandas, numpy, moment, xmlmanip, csv, datetime, mylittlehelpers, time\n",
    "from dateutil import relativedelta\n",
    "os.environ['INTERFACE_CONF_FILE'] = '/home/jjorissen/interface_secrets.conf'\n",
    "from tangier_api.async_api import AsyncScheduleConnection, HandleResponses\n",
    "from tangier_api.api import ScheduleConnection, ProviderConnection, LocationConnection\n",
    "from apprest_interface.api import APPRestConnection\n",
    "import requests, json"
   ]
  },
  {
   "cell_type": "code",
   "execution_count": 2,
   "metadata": {
    "collapsed": true
   },
   "outputs": [],
   "source": [
    "site_id_file = '/home/jjorissen/Documents/TangierDocs/LocationSiteIds.xlsx'\n",
    "site_ids = sorted(pandas.read_excel(site_id_file).dropna()['Site ID'].unique())"
   ]
  },
  {
   "cell_type": "code",
   "execution_count": 3,
   "metadata": {
    "collapsed": true
   },
   "outputs": [],
   "source": [
    "def months_prior(_datetime, months_ago):\n",
    "    return _datetime - relativedelta.relativedelta(months=months_ago)\n",
    "\n",
    "def days_later(_datetime, days_later):\n",
    "    return _datetime + relativedelta.relativedelta(days=days_later)"
   ]
  },
  {
   "cell_type": "code",
   "execution_count": 7,
   "metadata": {},
   "outputs": [
    {
     "name": "stdout",
     "output_type": "stream",
     "text": [
      "    00:00:44 2016-12-24 2017-01-23\n",
      "    00:01:14 2017-01-24 2017-02-23\n",
      "    00:01:43 2017-02-24 2017-03-23\n",
      "    00:02:14 2017-03-24 2017-04-23\n",
      "    00:02:46 2017-04-24 2017-05-23\n",
      "    00:03:19 2017-05-24 2017-06-23\n",
      "    00:03:51 2017-06-24 2017-07-23\n",
      "    00:04:41 2017-07-24 2017-08-23\n",
      "    00:05:37 2017-08-24 2017-09-23\n",
      "    00:06:33 2017-09-24 2017-10-23\n"
     ]
    }
   ],
   "source": [
    "schedule = ScheduleConnection()\n",
    "today = datetime.datetime.now()\n",
    "start = time.time()\n",
    "schedule_df = pandas.DataFrame()\n",
    "for i in range(-11, 0, 1):\n",
    "    x_months_ago = months_prior(today, -i)\n",
    "    x_plus_one_months_ago_minus_one_day = days_later(months_prior(today, -i-1), -1)\n",
    "    start_date = x_months_ago.strftime(\"%Y-%m-%d\")\n",
    "    end_date = x_plus_one_months_ago_minus_one_day.strftime(\"%Y-%m-%d\")\n",
    "    temp_schedule_list = schedule.get_schedule_values_list(start_date, end_date, site_ids)\n",
    "    if temp_schedule_list:\n",
    "        temp_schedule_df = pandas.DataFrame(temp_schedule_list)\n",
    "        schedule_df = schedule_df.append(temp_schedule_list)\n",
    "        print(mylittlehelpers.time_elapsed(start), start_date, end_date)"
   ]
  },
  {
   "cell_type": "code",
   "execution_count": 10,
   "metadata": {
    "collapsed": true
   },
   "outputs": [],
   "source": [
    "provider_ids = list(schedule_df['empid'].unique())\n",
    "provider_ids.remove(numpy.nan)\n",
    "provider = ProviderConnection()\n",
    "provider_df = pandas.DataFrame(provider.provider_info_values_list(provider_ids))\n",
    "provider_df_columns = list(provider_df.columns)\n",
    "provider_df_columns.remove('@action')\n",
    "provider_df = provider_df[provider_df_columns]"
   ]
  },
  {
   "cell_type": "code",
   "execution_count": 3,
   "metadata": {
    "collapsed": true
   },
   "outputs": [],
   "source": [
    "location = LocationConnection()\n",
    "location_df = pandas.DataFrame(location.location_info_values_list(site_ids=site_ids))\n",
    "location_df_columns = list(location_df.columns)\n",
    "location_df_columns.remove('@action')\n",
    "location_df = location_df[location_df_columns]"
   ]
  },
  {
   "cell_type": "code",
   "execution_count": 12,
   "metadata": {
    "collapsed": true
   },
   "outputs": [],
   "source": [
    "schedule_df.to_csv('schedule_flat.csv', quoting=csv.QUOTE_ALL, index=False)\n",
    "provider_df.to_csv('provider_flat.csv', quoting=csv.QUOTE_ALL, index=False)\n",
    "location_df.to_csv('location_flat.csv', quoting=csv.QUOTE_ALL, index=False)"
   ]
  },
  {
   "cell_type": "code",
   "execution_count": 1,
   "metadata": {},
   "outputs": [
    {
     "ename": "NameError",
     "evalue": "name 'location_df' is not defined",
     "traceback": [
      "\u001b[0;31m---------------------------------------------------------------------------\u001b[0m",
      "\u001b[0;31mNameError\u001b[0m                                 Traceback (most recent call last)",
      "\u001b[0;32m<ipython-input-1-88efeee7198d>\u001b[0m in \u001b[0;36m<module>\u001b[0;34m()\u001b[0m\n\u001b[0;32m----> 1\u001b[0;31m \u001b[0mlocation_df\u001b[0m\u001b[0;34m\u001b[0m\u001b[0m\n\u001b[0m",
      "\u001b[0;31mNameError\u001b[0m: name 'location_df' is not defined"
     ],
     "output_type": "error"
    }
   ],
   "source": [
    "location_df"
   ]
  },
  {
   "cell_type": "code",
   "execution_count": null,
   "metadata": {
    "collapsed": true
   },
   "outputs": [],
   "source": []
  }
 ],
 "metadata": {
  "kernelspec": {
   "display_name": "Python (tangier_api)",
   "language": "python",
   "name": "tangier_api"
  },
  "language_info": {
   "codemirror_mode": {
    "name": "ipython",
    "version": 3
   },
   "file_extension": ".py",
   "mimetype": "text/x-python",
   "name": "python",
   "nbconvert_exporter": "python",
   "pygments_lexer": "ipython3",
   "version": "3.6.3"
  }
 },
 "nbformat": 4,
 "nbformat_minor": 2
}
