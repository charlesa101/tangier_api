{
 "cells": [
  {
   "cell_type": "code",
   "execution_count": null,
   "metadata": {
    "collapsed": true
   },
   "outputs": [],
   "source": [
    "import os, pandas, numpy, moment, xmlmanip, csv, datetime, mylittlehelpers, time\n",
    "from dateutil import relativedelta\n",
    "os.environ['INTERFACE_CONF_FILE'] = '/home/jjorissen/interface_secrets.conf'\n",
    "from tangier_api.async_api import AsyncScheduleConnection, HandleResponses\n",
    "from tangier_api.api import ScheduleConnection"
   ]
  },
  {
   "cell_type": "code",
   "execution_count": null,
   "metadata": {
    "collapsed": true
   },
   "outputs": [],
   "source": [
    "site_id_file = '/home/jjorissen/Documents/TangierDocs/LocationSiteIds.xlsx'\n",
    "site_ids = sorted(pandas.read_excel(site_id_file).dropna()['Site ID'].unique())"
   ]
  },
  {
   "cell_type": "code",
   "execution_count": null,
   "metadata": {
    "collapsed": true
   },
   "outputs": [],
   "source": [
    "def x_days_prior(today, days_ago):\n",
    "    return today - relativedelta.relativedelta(days=days_ago)\n",
    "\n",
    "def per_line_print(item, per_line, index):\n",
    "    if index+1%per_line  == 0:\n",
    "        print(item)\n",
    "    else:\n",
    "        print(item, end=' ')"
   ]
  },
  {
   "cell_type": "code",
   "execution_count": null,
   "metadata": {},
   "outputs": [],
   "source": [
    "date_combos, request_list, redo_list = [], [], []\n",
    "today = datetime.datetime.now()\n",
    "result_df = pandas.DataFrame()\n",
    "for i in range(-300, 0, 1):\n",
    "    date_combos.append((x_days_prior(today, -i+1).strftime(\"%Y-%m-%d\"), \n",
    "                        x_days_prior(today, -i).strftime(\"%Y-%m-%d\")))\n",
    "\n",
    "start = time.time()\n",
    "for i, date_combo in enumerate(date_combos):\n",
    "    request_list, good_entries, audit_list = [], [], []\n",
    "    for site_id in site_ids[:10]:\n",
    "        request_list.append((date_combo[0], date_combo[1], site_id))\n",
    "    schedule = AsyncScheduleConnection()\n",
    "    schedule_responses = schedule.get_schedules(request_list)\n",
    "    good_responses, bad_responses = schedule.good_responses, schedule.bad_responses\n",
    "    redo_list.extend(HandleResponses.bad_to_new_request(bad_responses))\n",
    "    good_response_list = list(map(lambda x: xmlmanip.XMLSchema(x['item'].encode('utf-8')).search(siteid__contains=''), \n",
    "                                  good_responses))\n",
    "    for response in good_response_list:\n",
    "        if response:\n",
    "            response_as_values_list = list(map(lambda x: {'start_date': date_combo[0],\n",
    "                            'end_date': date_combo[1],\n",
    "                            **x}, response))\n",
    "            good_entries.extend(response_as_values_list)\n",
    "    good_df = pandas.DataFrame(good_entries)\n",
    "    result_df = result_df.append(good_df)\n",
    "    per_line_print(f'{i} {mylittlehelpers.time_elapsed(start)}: {date_combo}', 4, i)"
   ]
  },
  {
   "cell_type": "code",
   "execution_count": null,
   "metadata": {
    "collapsed": true
   },
   "outputs": [],
   "source": [
    "schedule_df = df\n",
    "provider_ids = list(schedule_df['empid'].unique())\n",
    "provider_ids.remove(numpy.nan)\n",
    "provider = ProviderConnection()\n",
    "provider_df = pandas.DataFrame(provider.provider_info_values_list(provider_ids))\n",
    "provider_df_columns = list(provider_df.columns)\n",
    "provider_df_columns.remove('@action')\n",
    "provider_df = provider_df[provider_df_columns]"
   ]
  },
  {
   "cell_type": "code",
   "execution_count": null,
   "metadata": {
    "collapsed": true
   },
   "outputs": [],
   "source": [
    "location = LocationConnection()\n",
    "location_df = pandas.DataFrame(location.location_info_values_list(site_ids=site_ids))\n",
    "location_df_columns = list(location_df.columns)\n",
    "location_df_columns.remove('@action')\n",
    "location_df = location_df[location_df_columns]"
   ]
  },
  {
   "cell_type": "code",
   "execution_count": null,
   "metadata": {
    "collapsed": true
   },
   "outputs": [],
   "source": [
    "schedule_df.to_csv('schedule_flat.csv', quoting=csv.QUOTE_ALL, index=False)\n",
    "provider_df.to_csv('provider_flat.csv', quoting=csv.QUOTE_ALL, index=False)\n",
    "location_df.to_csv('location_flat.csv', quoting=csv.QUOTE_ALL, index=False)"
   ]
  },
  {
   "cell_type": "code",
   "execution_count": null,
   "metadata": {
    "collapsed": true
   },
   "outputs": [],
   "source": [
    "good_response = pandas.read_pickle('good_responses')"
   ]
  }
 ],
 "metadata": {
  "kernelspec": {
   "display_name": "Python (tangier_api)",
   "language": "python",
   "name": "tangier_api"
  },
  "language_info": {
   "codemirror_mode": {
    "name": "ipython",
    "version": 3
   },
   "file_extension": ".py",
   "mimetype": "text/x-python",
   "name": "python",
   "nbconvert_exporter": "python",
   "pygments_lexer": "ipython3",
   "version": "3.6.3"
  }
 },
 "nbformat": 4,
 "nbformat_minor": 2
}
