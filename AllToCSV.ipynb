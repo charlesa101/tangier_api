{
 "cells": [
  {
   "cell_type": "code",
   "execution_count": 4,
   "metadata": {
    "collapsed": true
   },
   "outputs": [],
   "source": [
    "import os, pandas, numpy, moment, xmlmanip, csv\n",
    "os.environ['INTERFACE_CONF_FILE'] = '/home/jjorissen/interface_secrets.conf'\n",
    "from tangier_api import api\n",
    "from tangier_api.api import ScheduleConnection, ProviderConnection, ProviderReport, LocationConnection"
   ]
  },
  {
   "cell_type": "code",
   "execution_count": 5,
   "metadata": {
    "collapsed": true
   },
   "outputs": [],
   "source": [
    "site_id_file = '/home/jjorissen/Documents/TangierDocs/LocationSiteIds.xlsx'\n",
    "site_ids = sorted(pandas.read_excel(site_id_file).dropna()['Site ID'].unique())\n",
    "schedule = ScheduleConnection()"
   ]
  },
  {
   "cell_type": "code",
   "execution_count": 6,
   "metadata": {},
   "outputs": [],
   "source": [
    "today = moment.utcnow().strftime(\"%Y-%m-%d\")\n",
    "three_months_ago = moment.utcnow().add(months=-2).strftime(\"%Y-%m-%d\")\n",
    "schedule_list = schedule.get_schedule_values_list(start_date=three_months_ago, \n",
    "                                                  end_date=today, \n",
    "                                                  site_ids=site_ids)\n",
    "\n",
    "df = pandas.DataFrame(schedule_list)"
   ]
  },
  {
   "cell_type": "code",
   "execution_count": 7,
   "metadata": {
    "collapsed": true
   },
   "outputs": [],
   "source": [
    "schedule_df = df\n",
    "provider_ids = list(schedule_df['empid'].unique())\n",
    "provider_ids.remove(numpy.nan)\n",
    "provider = ProviderConnection()\n",
    "provider_df = pandas.DataFrame(provider.provider_info_values_list(provider_ids))\n",
    "provider_df_columns = list(provider_df.columns)\n",
    "provider_df_columns.remove('@action')\n",
    "provider_df = provider_df[provider_df_columns]"
   ]
  },
  {
   "cell_type": "code",
   "execution_count": 8,
   "metadata": {
    "collapsed": true
   },
   "outputs": [],
   "source": [
    "location = LocationConnection()\n",
    "location_df = pandas.DataFrame(location.location_info_values_list(site_ids=site_ids))\n",
    "location_df_columns = list(location_df.columns)\n",
    "location_df_columns.remove('@action')\n",
    "location_df = location_df[location_df_columns]"
   ]
  },
  {
   "cell_type": "code",
   "execution_count": 9,
   "metadata": {
    "collapsed": true
   },
   "outputs": [],
   "source": [
    "schedule_df.to_csv('schedule_flat.csv', quoting=csv.QUOTE_ALL, index=False)\n",
    "provider_df.to_csv('provider_flat.csv', quoting=csv.QUOTE_ALL, index=False)\n",
    "location_df.to_csv('location_flat.csv', quoting=csv.QUOTE_ALL, index=False)"
   ]
  },
  {
   "cell_type": "code",
   "execution_count": null,
   "metadata": {
    "collapsed": true
   },
   "outputs": [],
   "source": []
  }
 ],
 "metadata": {
  "kernelspec": {
   "display_name": "Python (tangier_api)",
   "language": "python",
   "name": "tangier_api"
  },
  "language_info": {
   "codemirror_mode": {
    "name": "ipython",
    "version": 3
   },
   "file_extension": ".py",
   "mimetype": "text/x-python",
   "name": "python",
   "nbconvert_exporter": "python",
   "pygments_lexer": "ipython3",
   "version": "3.6.3"
  }
 },
 "nbformat": 4,
 "nbformat_minor": 2
}
